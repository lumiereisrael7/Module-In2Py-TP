{
 "cells": [
  {
   "cell_type": "markdown",
   "metadata": {},
   "source": [
    "# <center style=\"color: green\"> <b> SUMMATIONS AND PRODUCTS </b> </center>"
   ]
  },
  {
   "cell_type": "markdown",
   "metadata": {},
   "source": [
    "### <b> 1- Let's compute the following expressions </b>"
   ]
  },
  {
   "cell_type": "markdown",
   "metadata": {},
   "source": [
    "<b> (i) Sum</b>"
   ]
  },
  {
   "cell_type": "code",
   "execution_count": 3,
   "metadata": {},
   "outputs": [],
   "source": [
    "n = 5 "
   ]
  },
  {
   "cell_type": "code",
   "execution_count": 4,
   "metadata": {},
   "outputs": [
    {
     "name": "stdout",
     "output_type": "stream",
     "text": [
      "10\n"
     ]
    }
   ],
   "source": [
    "sum = 0\n",
    "\n",
    "for i in range(1,n,2):\n",
    "    sum += i + 3\n",
    "    \n",
    "print(sum)"
   ]
  },
  {
   "cell_type": "markdown",
   "metadata": {},
   "source": [
    "<b> (ii) Product</b>"
   ]
  },
  {
   "cell_type": "code",
   "execution_count": 5,
   "metadata": {},
   "outputs": [
    {
     "name": "stdout",
     "output_type": "stream",
     "text": [
      "105\n"
     ]
    }
   ],
   "source": [
    "product = 1\n",
    "\n",
    "for i in range(0,n,2):\n",
    "    product *= (i + 3)\n",
    "    \n",
    "print(product)"
   ]
  },
  {
   "cell_type": "markdown",
   "metadata": {},
   "source": [
    "### <b> 2- Working days or weekends </b>"
   ]
  },
  {
   "cell_type": "code",
   "execution_count": 12,
   "metadata": {},
   "outputs": [],
   "source": [
    "number = 1"
   ]
  },
  {
   "cell_type": "code",
   "execution_count": 11,
   "metadata": {},
   "outputs": [
    {
     "name": "stdout",
     "output_type": "stream",
     "text": [
      "tuesday\n"
     ]
    }
   ],
   "source": [
    "week = {1: 'monday', 2: 'tuesday', 3: 'wednesday', 4: 'thursday', 5: 'friday', 6: 'saturday', 7: 'sunday'}\n",
    "\n",
    "if number < 5:\n",
    "    print(week[number + 1])\n",
    "else:\n",
    "    print('weekend')"
   ]
  },
  {
   "cell_type": "markdown",
   "metadata": {},
   "source": [
    "### <b> 3- Number of day in a month </b>"
   ]
  },
  {
   "cell_type": "code",
   "execution_count": 40,
   "metadata": {},
   "outputs": [],
   "source": [
    "number = 11"
   ]
  },
  {
   "cell_type": "code",
   "execution_count": 41,
   "metadata": {},
   "outputs": [
    {
     "name": "stdout",
     "output_type": "stream",
     "text": [
      "31\n"
     ]
    }
   ],
   "source": [
    "#month = {1: 31, 2: 28, 3: 31:, 4: 30, 5: 31, 6: 30, 7:31, 8: 31, 9: 30, 10: 31, 11: 30, 12: 31}\n",
    "\n",
    "if number < 7:\n",
    "    if(number%2 ):\n",
    "        if(number == 1):\n",
    "            print(28)\n",
    "        else:\n",
    "            print(30)\n",
    "    else:\n",
    "        print(31)\n",
    "\n",
    "else:\n",
    "    if(number%2 ):\n",
    "        print(31)\n",
    "    else:\n",
    "        print(30)"
   ]
  },
  {
   "cell_type": "markdown",
   "metadata": {},
   "source": [
    "### <b> 4- name displaying </b>"
   ]
  },
  {
   "cell_type": "code",
   "execution_count": 19,
   "metadata": {},
   "outputs": [
    {
     "name": "stdout",
     "output_type": "stream",
     "text": [
      "Godonou\n",
      "Godonou\n",
      "Godonou\n"
     ]
    }
   ],
   "source": [
    "for i in range(3):\n",
    "    print(\"Godonou\")"
   ]
  },
  {
   "cell_type": "code",
   "execution_count": 20,
   "metadata": {},
   "outputs": [
    {
     "name": "stdout",
     "output_type": "stream",
     "text": [
      "Godonou\n",
      "Godonou\n",
      "Godonou\n"
     ]
    }
   ],
   "source": [
    "i = 1\n",
    "while i < 4:\n",
    "    print(\"Godonou\")\n",
    "    i += 1"
   ]
  },
  {
   "cell_type": "markdown",
   "metadata": {},
   "source": [
    "### <b> 5- Fibonacci </b>"
   ]
  },
  {
   "cell_type": "code",
   "execution_count": 24,
   "metadata": {},
   "outputs": [],
   "source": [
    "a0, a1 = 5, 7"
   ]
  },
  {
   "cell_type": "code",
   "execution_count": 25,
   "metadata": {},
   "outputs": [
    {
     "name": "stdout",
     "output_type": "stream",
     "text": [
      "5\n",
      "7\n",
      "12\n",
      "19\n",
      "31\n",
      "50\n",
      "81\n",
      "131\n",
      "212\n",
      "343\n",
      "555\n",
      "898\n",
      "1453\n",
      "2351\n",
      "3804\n"
     ]
    }
   ],
   "source": [
    "an_1 = a0 #an - 1\n",
    "\n",
    "an = a1 #an\n",
    "\n",
    "print(an_1)\n",
    "print(an)\n",
    "\n",
    "for i  in range(13):\n",
    "    an__1 = an + an_1 #an+1\n",
    "    print(an__1)\n",
    "    an_1 = an\n",
    "    an = an__1"
   ]
  },
  {
   "cell_type": "markdown",
   "metadata": {},
   "source": [
    "### <b> 6- 30 fist term of the sequence defined by 2xn+2 − xn+1 − 6xn = 0 </b>"
   ]
  },
  {
   "cell_type": "code",
   "execution_count": 26,
   "metadata": {},
   "outputs": [],
   "source": [
    "x0, x1 = 1, 3"
   ]
  },
  {
   "cell_type": "code",
   "execution_count": 30,
   "metadata": {},
   "outputs": [
    {
     "name": "stdout",
     "output_type": "stream",
     "text": [
      "1\n",
      "3\n",
      "4.5\n",
      "11.25\n",
      "19.125\n",
      "43.3125\n",
      "79.03125\n",
      "169.453125\n",
      "321.8203125\n",
      "669.26953125\n",
      "1300.095703125\n",
      "2657.8564453125\n",
      "5229.21533203125\n",
      "10588.177001953125\n",
      "20981.734497070312\n",
      "42255.39825439453\n",
      "84072.9026184082\n",
      "168802.6460723877\n",
      "336620.03089141846\n",
      "674717.9536628723\n",
      "1347219.0695056915\n",
      "2697763.3957414627\n",
      "5390538.906387806\n",
      "10788559.640418291\n",
      "21565896.539372563\n",
      "43148627.190941155\n",
      "86272003.21358827\n",
      "172581883.17961758\n",
      "345106951.2305736\n",
      "690299125.1541395\n"
     ]
    }
   ],
   "source": [
    "xn_1 = x1 #xn + 1\n",
    "\n",
    "xn = x0 #xn\n",
    "\n",
    "print(xn)\n",
    "print(xn_1)\n",
    "\n",
    "for i  in range(28):\n",
    "    xn_2 = (6*xn + xn_1)/2 #xn+1\n",
    "    print(xn_2)\n",
    "    xn = xn_1\n",
    "    xn_1 = xn_2"
   ]
  },
  {
   "cell_type": "markdown",
   "metadata": {},
   "source": [
    "### <b> Multiplication table</b>"
   ]
  },
  {
   "cell_type": "code",
   "execution_count": 43,
   "metadata": {},
   "outputs": [],
   "source": [
    "n = 8\n",
    "\n",
    "N = 12"
   ]
  },
  {
   "cell_type": "code",
   "execution_count": 44,
   "metadata": {},
   "outputs": [
    {
     "name": "stdout",
     "output_type": "stream",
     "text": [
      "8 * 0 = 0\n",
      "8 * 1 = 8\n",
      "8 * 2 = 16\n",
      "8 * 3 = 24\n",
      "8 * 4 = 32\n",
      "8 * 5 = 40\n",
      "8 * 6 = 48\n",
      "8 * 7 = 56\n",
      "8 * 8 = 64\n",
      "8 * 9 = 72\n",
      "8 * 10 = 80\n",
      "8 * 11 = 88\n",
      "8 * 12 = 96\n"
     ]
    }
   ],
   "source": [
    "for i in range(0, N+1):\n",
    "    print(n, '*', i, '=', n*i)"
   ]
  },
  {
   "cell_type": "code",
   "execution_count": null,
   "metadata": {},
   "outputs": [],
   "source": []
  }
 ],
 "metadata": {
  "kernelspec": {
   "display_name": "Python 3",
   "language": "python",
   "name": "python3"
  },
  "language_info": {
   "codemirror_mode": {
    "name": "ipython",
    "version": 3
   },
   "file_extension": ".py",
   "mimetype": "text/x-python",
   "name": "python",
   "nbconvert_exporter": "python",
   "pygments_lexer": "ipython3",
   "version": "3.8.5"
  }
 },
 "nbformat": 4,
 "nbformat_minor": 4
}
