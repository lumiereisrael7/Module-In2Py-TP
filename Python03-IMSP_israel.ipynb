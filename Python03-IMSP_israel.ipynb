{
 "cells": [
  {
   "cell_type": "markdown",
   "metadata": {},
   "source": [
    "# <center style=\"color: green\"><b>Python03-IMSP</b></center>"
   ]
  },
  {
   "cell_type": "markdown",
   "metadata": {},
   "source": [
    "### <b>1- </b>"
   ]
  },
  {
   "cell_type": "markdown",
   "metadata": {},
   "source": [
    "<b> a- String in alphabetic order</b>"
   ]
  },
  {
   "cell_type": "code",
   "execution_count": 3,
   "metadata": {},
   "outputs": [],
   "source": [
    "def M(chaine1, chaine2):\n",
    "    i = j = k = 0\n",
    "    chaine = ''\n",
    "    while k < len(chaine1) + len(chaine2):\n",
    "        if i < len(chaine1) and j < len(chaine2):\n",
    "            if str(chaine1[i]) < str(chaine2[j]):\n",
    "                chaine += str(chaine1[i])\n",
    "                i += 1\n",
    "            else:\n",
    "                chaine += str(chaine2[j])\n",
    "                j += 1\n",
    "        k += 1\n",
    "        \n",
    "    if i == len(chaine1) and j < len(chaine2):\n",
    "        chaine += chaine2[j:]\n",
    "    elif j == len(chaine2) and i < len(chaine1):\n",
    "        chaine += chaine1[i:]\n",
    "        \n",
    "    return chaine"
   ]
  },
  {
   "cell_type": "code",
   "execution_count": 4,
   "metadata": {},
   "outputs": [
    {
     "data": {
      "text/plain": [
       "'abcdghxz'"
      ]
     },
     "execution_count": 4,
     "metadata": {},
     "output_type": "execute_result"
    }
   ],
   "source": [
    "M('axz', 'bcdgh')"
   ]
  },
  {
   "cell_type": "markdown",
   "metadata": {},
   "source": [
    "<b> b- String in alphabetic order with repitions</b>"
   ]
  },
  {
   "cell_type": "code",
   "execution_count": 5,
   "metadata": {},
   "outputs": [
    {
     "data": {
      "text/plain": [
       "'abbccddd'"
      ]
     },
     "execution_count": 5,
     "metadata": {},
     "output_type": "execute_result"
    }
   ],
   "source": [
    "M('bdd', 'abccd')"
   ]
  },
  {
   "cell_type": "markdown",
   "metadata": {},
   "source": [
    "<b> c- S implement using M</b>"
   ]
  },
  {
   "cell_type": "code",
   "execution_count": 6,
   "metadata": {},
   "outputs": [],
   "source": [
    "def S(ch):\n",
    "    if len(ch) == 1:\n",
    "        return ch\n",
    "    \n",
    "    elif len(ch) == 2:\n",
    "        return M(ch[:1], ch[1:])\n",
    "    \n",
    "    else: \n",
    "        ch1 = S(ch[:int(len(ch)/2)])\n",
    "        ch2 = S(ch[int(len(ch)/2):])\n",
    "        return M(ch1, ch2)"
   ]
  },
  {
   "cell_type": "code",
   "execution_count": 7,
   "metadata": {},
   "outputs": [
    {
     "data": {
      "text/plain": [
       "'aaaabdfggjmmnnooruzz'"
      ]
     },
     "execution_count": 7,
     "metadata": {},
     "output_type": "execute_result"
    }
   ],
   "source": [
    "S('bonjourmdgfzazagaman')"
   ]
  },
  {
   "cell_type": "markdown",
   "metadata": {},
   "source": [
    "<b> d- Another verion of M </b>"
   ]
  },
  {
   "cell_type": "code",
   "execution_count": 9,
   "metadata": {},
   "outputs": [],
   "source": [
    "def M_other(ch1, ch2):\n",
    "    return M(S(ch1), S(ch2))"
   ]
  },
  {
   "cell_type": "code",
   "execution_count": 10,
   "metadata": {},
   "outputs": [
    {
     "data": {
      "text/plain": [
       "' aabbbbdghhhijjmmnnooorsuuvz'"
      ]
     },
     "execution_count": 10,
     "metadata": {},
     "output_type": "execute_result"
    }
   ],
   "source": [
    "M_other('bonjour maman', 'vhdsbgjhbzoiuhb')"
   ]
  },
  {
   "cell_type": "markdown",
   "metadata": {},
   "source": [
    "<b> e- Fonctions writing</b>"
   ]
  },
  {
   "cell_type": "markdown",
   "metadata": {},
   "source": [
    "<b> (i) First vowel identifier</b>"
   ]
  },
  {
   "cell_type": "code",
   "execution_count": 23,
   "metadata": {},
   "outputs": [],
   "source": [
    "def vowelIdentifier(chaine):\n",
    "    L = []\n",
    "    for i in chaine:\n",
    "        if i in 'AaEeIiOoUuYy':\n",
    "            L.append(i)\n",
    "    if len(L) > 0:\n",
    "        print('The first vowel in the sentence is:', L[0])\n",
    "    else:\n",
    "        print('There are no voawel in this sentence')"
   ]
  },
  {
   "cell_type": "code",
   "execution_count": 24,
   "metadata": {},
   "outputs": [
    {
     "name": "stdout",
     "output_type": "stream",
     "text": [
      "There are no vowel in this sentence\n"
     ]
    }
   ],
   "source": [
    "vowelIdentifier('Bhhhhh')"
   ]
  },
  {
   "cell_type": "markdown",
   "metadata": {},
   "source": [
    "<b> (ii) Vowel counter</b>"
   ]
  },
  {
   "cell_type": "code",
   "execution_count": 34,
   "metadata": {},
   "outputs": [],
   "source": [
    "def isVowel(x):\n",
    "    if x in 'AaEeIiOoUuYy':\n",
    "        return True\n",
    "    return False\n",
    "\n",
    "def vowelCount(chaine):\n",
    "    k = 0\n",
    "    L = []\n",
    "    for i in chaine:\n",
    "        if isVowel(i):\n",
    "            k += 1\n",
    "    return k"
   ]
  },
  {
   "cell_type": "code",
   "execution_count": 35,
   "metadata": {},
   "outputs": [
    {
     "data": {
      "text/plain": [
       "5"
      ]
     },
     "execution_count": 35,
     "metadata": {},
     "output_type": "execute_result"
    }
   ],
   "source": [
    "vowelCount('Bonjour maman')"
   ]
  },
  {
   "cell_type": "markdown",
   "metadata": {},
   "source": [
    "<b> (iii) Letter on upper case </b>"
   ]
  },
  {
   "cell_type": "code",
   "execution_count": 24,
   "metadata": {},
   "outputs": [],
   "source": [
    "def letterOnUpperCase():\n",
    "    while True:\n",
    "        ch = input('Entrez une lettre: ')\n",
    "        if ch.isdigit():\n",
    "            print('Au revoir')\n",
    "            break\n",
    "        ch = ch[:1].capitalize()\n",
    "        print(ch)"
   ]
  },
  {
   "cell_type": "code",
   "execution_count": null,
   "metadata": {},
   "outputs": [
    {
     "name": "stdout",
     "output_type": "stream",
     "text": [
      "Entrez une lettre: BHVIOZUAEHNU\"NVJ NAKJHJIF JQYGZU_GA\n",
      "B\n",
      "Entrez une lettre: bhjszbhujcfb jzhbgrfb vba\n",
      "B\n",
      "Entrez une lettre:  \n",
      " \n",
      "Entrez une lettre: j\n"
     ]
    }
   ],
   "source": [
    "letterOnUpperCase()"
   ]
  },
  {
   "cell_type": "markdown",
   "metadata": {},
   "source": [
    "<b> (vi) First letter of word on upper case </b>"
   ]
  },
  {
   "cell_type": "code",
   "execution_count": null,
   "metadata": {},
   "outputs": [],
   "source": [
    "def firstletterOnUpperCase(ch):\n",
    "    L = ch.split(' ')\n",
    "    chaine = ''\n",
    "    for i in L:\n",
    "        chaine += ' '+ i.capitalize()\n",
    "    return chaine"
   ]
  },
  {
   "cell_type": "code",
   "execution_count": null,
   "metadata": {},
   "outputs": [],
   "source": [
    "firstletterOnUpperCase(input('Entrez une phrase: '))"
   ]
  },
  {
   "cell_type": "markdown",
   "metadata": {},
   "source": [
    "<b> (vii) Palindrone finder </b>"
   ]
  },
  {
   "cell_type": "code",
   "execution_count": 11,
   "metadata": {},
   "outputs": [],
   "source": [
    "def isPalindrone(ch):\n",
    "    if ch.upper() == ch[::-1].upper():\n",
    "        return ch, 'is a palindrone'\n",
    "    else :\n",
    "        return ch, \"isn't a palindrone\""
   ]
  },
  {
   "cell_type": "code",
   "execution_count": 12,
   "metadata": {},
   "outputs": [
    {
     "data": {
      "text/plain": [
       "('Elle', 'is a palindrone')"
      ]
     },
     "execution_count": 12,
     "metadata": {},
     "output_type": "execute_result"
    }
   ],
   "source": [
    "isPalindrone('Elle')"
   ]
  },
  {
   "cell_type": "markdown",
   "metadata": {},
   "source": [
    "<b> (vii) Palindrone finder </b>"
   ]
  },
  {
   "cell_type": "code",
   "execution_count": 11,
   "metadata": {},
   "outputs": [],
   "source": [
    "def isPalindrone(ch):\n",
    "    if ch.upper() == ch[::-1].upper():\n",
    "        return ch, 'is a palindrone'\n",
    "    else :\n",
    "        return ch, \"isn't a palindrone\""
   ]
  },
  {
   "cell_type": "markdown",
   "metadata": {},
   "source": [
    "<b> (viii) Palindrone finder </b>"
   ]
  },
  {
   "cell_type": "code",
   "execution_count": 14,
   "metadata": {},
   "outputs": [],
   "source": [
    "def timeWordSentence(text, word):\n",
    "    j = 0\n",
    "    L = text.upper().split(' ')\n",
    "    for i in L:\n",
    "        if i == word.upper():\n",
    "            j += 1\n",
    "    print(word, 'appears', j, 'time(s)')"
   ]
  },
  {
   "cell_type": "code",
   "execution_count": 15,
   "metadata": {},
   "outputs": [
    {
     "name": "stdout",
     "output_type": "stream",
     "text": [
      "paPa appears 3 time(s)\n"
     ]
    }
   ],
   "source": [
    "timeWordSentence('Le papa du papa du Papa du le', 'paPa')"
   ]
  },
  {
   "cell_type": "markdown",
   "metadata": {},
   "source": [
    "<b> (viii) Palindrone finder </b>"
   ]
  },
  {
   "cell_type": "code",
   "execution_count": 16,
   "metadata": {},
   "outputs": [],
   "source": [
    "score = (1, 2, 3, 4, 5, 6, 7, 8, 9, 10)"
   ]
  },
  {
   "cell_type": "code",
   "execution_count": null,
   "metadata": {},
   "outputs": [],
   "source": [
    "print(\"The lowest possible score is {}, and the highest possible score is {}.\""
   ]
  }
 ],
 "metadata": {
  "kernelspec": {
   "display_name": "Python 3",
   "language": "python",
   "name": "python3"
  },
  "language_info": {
   "codemirror_mode": {
    "name": "ipython",
    "version": 3
   },
   "file_extension": ".py",
   "mimetype": "text/x-python",
   "name": "python",
   "nbconvert_exporter": "python",
   "pygments_lexer": "ipython3",
   "version": "3.8.5"
  }
 },
 "nbformat": 4,
 "nbformat_minor": 4
}
