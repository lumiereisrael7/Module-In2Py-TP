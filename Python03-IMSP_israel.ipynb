{
 "cells": [
  {
   "cell_type": "markdown",
   "metadata": {},
   "source": [
    "# <center style=\"color: green\"><b>Python03-IMSP</b></center>"
   ]
  },
  {
   "cell_type": "markdown",
   "metadata": {},
   "source": [
    "### <b>1- </b>"
   ]
  },
  {
   "cell_type": "markdown",
   "metadata": {},
   "source": [
    "<b> a- String in alphabetic order</b>"
   ]
  },
  {
   "cell_type": "code",
   "execution_count": null,
   "metadata": {},
   "outputs": [],
   "source": [
    "def M(chaine1, chaine2):\n",
    "    i = j = k = 0\n",
    "    chaine = ''\n",
    "    while k < len(chaine1) + len(chaine2):\n",
    "        if i < len(chaine1) and j < len(chaine2):\n",
    "            if str(chaine1[i]) < str(chaine2[j]):\n",
    "                chaine += str(chaine1[i])\n",
    "                i += 1\n",
    "            else:\n",
    "                chaine += str(chaine2[j])\n",
    "                j += 1\n",
    "        k += 1\n",
    "        \n",
    "    if i == len(chaine1) and j < len(chaine2):\n",
    "        chaine += chaine2[j:]\n",
    "    elif j == len(chaine2) and i < len(chaine1):\n",
    "        chaine += chaine1[i:]\n",
    "        \n",
    "    return chaine"
   ]
  },
  {
   "cell_type": "code",
   "execution_count": null,
   "metadata": {},
   "outputs": [],
   "source": [
    "M('axz', 'bcdgh')"
   ]
  },
  {
   "cell_type": "markdown",
   "metadata": {},
   "source": [
    "<b> b- String in alphabetic order with repitions</b>"
   ]
  },
  {
   "cell_type": "code",
   "execution_count": null,
   "metadata": {},
   "outputs": [],
   "source": [
    "M('bdd', 'abccd')"
   ]
  },
  {
   "cell_type": "markdown",
   "metadata": {},
   "source": [
    "<b> c- S implementation using M</b>"
   ]
  },
  {
   "cell_type": "code",
   "execution_count": null,
   "metadata": {},
   "outputs": [],
   "source": [
    "def S(ch):\n",
    "    if len(ch) == 1:\n",
    "        return ch\n",
    "    \n",
    "    else: \n",
    "        ch1 = S(ch[:int(len(ch)/2)])\n",
    "        ch2 = S(ch[int(len(ch)/2):])\n",
    "        return M(ch1, ch2)"
   ]
  },
  {
   "cell_type": "code",
   "execution_count": null,
   "metadata": {},
   "outputs": [],
   "source": [
    "S('bonjourmdgfzazagaman')"
   ]
  },
  {
   "cell_type": "markdown",
   "metadata": {},
   "source": [
    "<b> d- Another verion of M </b>"
   ]
  },
  {
   "cell_type": "code",
   "execution_count": null,
   "metadata": {},
   "outputs": [],
   "source": [
    "def M_other(ch1, ch2):\n",
    "    return M(S(ch1), S(ch2))"
   ]
  },
  {
   "cell_type": "code",
   "execution_count": null,
   "metadata": {},
   "outputs": [],
   "source": [
    "M_other('bonjour maman', 'vhdsbgjhbzoiuhb')"
   ]
  },
  {
   "cell_type": "markdown",
   "metadata": {},
   "source": [
    "<b> e- Fonctions writing</b>"
   ]
  },
  {
   "cell_type": "markdown",
   "metadata": {},
   "source": [
    "<b> (i) First vowel identifier</b>"
   ]
  },
  {
   "cell_type": "code",
   "execution_count": null,
   "metadata": {},
   "outputs": [],
   "source": [
    "def vowelIdentifier(chaine):\n",
    "    L = []\n",
    "    for i in chaine:\n",
    "        if i in 'AaEeIiOoUuYy':\n",
    "            L.append(i)\n",
    "    if len(L) > 0:\n",
    "        print('The first vowel in the sentence is:', L[0])\n",
    "    else:\n",
    "        print('There are no voawel in this sentence')"
   ]
  },
  {
   "cell_type": "code",
   "execution_count": null,
   "metadata": {},
   "outputs": [],
   "source": [
    "vowelIdentifier(input('Enter a string: '))"
   ]
  },
  {
   "cell_type": "markdown",
   "metadata": {},
   "source": [
    "<b> (ii) Vowel counter</b>"
   ]
  },
  {
   "cell_type": "code",
   "execution_count": null,
   "metadata": {},
   "outputs": [],
   "source": [
    "def isVowel(x):\n",
    "    if x in 'AaEeIiOoUuYy':\n",
    "        return True\n",
    "    return False\n",
    "\n",
    "def vowelCount(chaine):\n",
    "    k = 0\n",
    "    L = []\n",
    "    for i in chaine:\n",
    "        if isVowel(i):\n",
    "            k += 1\n",
    "    print('\"{}\"''.format(chaine), 'contains', k, 'vowel(s)')"
   ]
  },
  {
   "cell_type": "code",
   "execution_count": null,
   "metadata": {},
   "outputs": [],
   "source": [
    "vowelCount('Bonjour maman')"
   ]
  },
  {
   "cell_type": "markdown",
   "metadata": {},
   "source": [
    "<b> (iii) Letter on upper case </b>"
   ]
  },
  {
   "cell_type": "code",
   "execution_count": null,
   "metadata": {},
   "outputs": [],
   "source": [
    "def letterOnUpperCase():\n",
    "    while True:\n",
    "        ch = input('Entrez une lettre: ')\n",
    "        if ch.isdigit():\n",
    "            print('Au revoir')\n",
    "            break\n",
    "        ch = ch[:1].capitalize()\n",
    "        print(ch)"
   ]
  },
  {
   "cell_type": "code",
   "execution_count": null,
   "metadata": {},
   "outputs": [],
   "source": [
    "letterOnUpperCase()"
   ]
  },
  {
   "cell_type": "markdown",
   "metadata": {},
   "source": [
    "<b> (iv) Vowel counter</b>"
   ]
  },
  {
   "cell_type": "code",
   "execution_count": null,
   "metadata": {},
   "outputs": [],
   "source": [
    "def vowelCounter(ch):\n",
    "    vowel = {'A': 0, 'E': 0, 'I': 0, 'O': 0, 'U': 0, 'Y': 0}\n",
    "    for i in ch:\n",
    "        if i.islower():\n",
    "            print('The string must be in uppercase')\n",
    "            return\n",
    "    for i in ch:\n",
    "        if i in vowel.keys():\n",
    "            vowel[i] += 1\n",
    "            \n",
    "    for i in vowel.keys():\n",
    "        print('number of', i, 'is', vowel[i])"
   ]
  },
  {
   "cell_type": "code",
   "execution_count": null,
   "metadata": {},
   "outputs": [],
   "source": [
    "vowelCounter(input('Enter a sentence on upper case: '))"
   ]
  },
  {
   "cell_type": "markdown",
   "metadata": {},
   "source": [
    "<b> (v) b and c apparition</b>"
   ]
  },
  {
   "cell_type": "code",
   "execution_count": null,
   "metadata": {},
   "outputs": [],
   "source": [
    "def BCapparition(ch):\n",
    "    appear = {'B':0, 'C':0}\n",
    "    for k in ch.upper():\n",
    "        if k in appear.keys():\n",
    "            appear[k] += 1\n",
    "\n",
    "    for i in appear.keys():\n",
    "        print(i, 'appears', appear[i], 'time(s)')\n",
    "    \n",
    "    if appear['B'] < appear['C']:\n",
    "        print('B appears more than C')\n",
    "    elif appear['B'] > appear['C']:\n",
    "        print('C appears more than B')\n",
    "    else:\n",
    "        print('B and C have the same number of occurence')"
   ]
  },
  {
   "cell_type": "code",
   "execution_count": null,
   "metadata": {},
   "outputs": [],
   "source": [
    "BCapparition(input('Entrez une chaine: '))"
   ]
  },
  {
   "cell_type": "markdown",
   "metadata": {},
   "source": [
    "<b> (vi) First letter of word on upper case </b>"
   ]
  },
  {
   "cell_type": "code",
   "execution_count": null,
   "metadata": {},
   "outputs": [],
   "source": [
    "def firstletterOnUpperCase(ch):\n",
    "    L = ch.split(' ')\n",
    "    chaine = ''\n",
    "    for i in L:\n",
    "        chaine += ' '+ i.capitalize()\n",
    "    return chaine"
   ]
  },
  {
   "cell_type": "code",
   "execution_count": null,
   "metadata": {},
   "outputs": [],
   "source": [
    "firstletterOnUpperCase(input('Entrez une phrase: '))"
   ]
  },
  {
   "cell_type": "markdown",
   "metadata": {},
   "source": [
    "<b> (vii) Palindrone finder </b>"
   ]
  },
  {
   "cell_type": "code",
   "execution_count": null,
   "metadata": {},
   "outputs": [],
   "source": [
    "def isPalindrone(ch):\n",
    "    if ch.upper() == ch[::-1].upper():\n",
    "        return ch, 'is a palindrone'\n",
    "    else :\n",
    "        return ch, \"isn't a palindrone\""
   ]
  },
  {
   "cell_type": "code",
   "execution_count": null,
   "metadata": {},
   "outputs": [],
   "source": [
    "isPalindrone('Elle')"
   ]
  },
  {
   "cell_type": "markdown",
   "metadata": {},
   "source": [
    "<b> (viii) word times appering </b>"
   ]
  },
  {
   "cell_type": "code",
   "execution_count": null,
   "metadata": {},
   "outputs": [],
   "source": [
    "def timeWordSentence(text, word):\n",
    "    j = 0\n",
    "    L = text.upper().split(' ')\n",
    "    for i in L:\n",
    "        if i == word.upper():\n",
    "            j += 1\n",
    "    print(word, 'appears', j, 'time(s)')"
   ]
  },
  {
   "cell_type": "code",
   "execution_count": null,
   "metadata": {},
   "outputs": [],
   "source": [
    "timeWordSentence('Le papa du papa du Papa du le', 'paPa')"
   ]
  },
  {
   "cell_type": "markdown",
   "metadata": {},
   "source": [
    "<b> (viii) Palindrone finder </b>"
   ]
  },
  {
   "cell_type": "code",
   "execution_count": null,
   "metadata": {},
   "outputs": [],
   "source": [
    "score = tuple(range(1, 11))\n",
    "\n",
    "print('The lowest possible score is {}, and the highest possible score is {}.'.format(score[0], score[len(score)-1]))\n",
    "\n",
    "for i in score:\n",
    "    print(\"A judge can give a gymnast {} point.\".format(i))"
   ]
  }
 ],
 "metadata": {
  "kernelspec": {
   "display_name": "Python 3",
   "language": "python",
   "name": "python3"
  },
  "language_info": {
   "codemirror_mode": {
    "name": "ipython",
    "version": 3
   },
   "file_extension": ".py",
   "mimetype": "text/x-python",
   "name": "python",
   "nbconvert_exporter": "python",
   "pygments_lexer": "ipython3",
   "version": "3.8.5"
  }
 },
 "nbformat": 4,
 "nbformat_minor": 4
}
