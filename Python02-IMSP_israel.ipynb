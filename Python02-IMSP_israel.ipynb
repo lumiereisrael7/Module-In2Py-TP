{
 "cells": [
  {
   "cell_type": "markdown",
   "metadata": {},
   "source": [
    "# <center style=\"color: green\"> <b> Python02-IMSP </b> </center>"
   ]
  },
  {
   "cell_type": "markdown",
   "metadata": {},
   "source": [
    "### <b> 1- Script python  </b>"
   ]
  },
  {
   "cell_type": "code",
   "execution_count": 1,
   "metadata": {},
   "outputs": [],
   "source": [
    "from math import sin\n",
    "\n",
    "def expressionValue(x,y):\n",
    "    return pow(x, 2+y)/(1/x + 2*sin(y))"
   ]
  },
  {
   "cell_type": "code",
   "execution_count": 2,
   "metadata": {},
   "outputs": [
    {
     "name": "stdout",
     "output_type": "stream",
     "text": [
      "Entrez un nomre x: 5\n",
      "Entrez un nomre y: 8\n",
      "La valeur de l'expression est: 4482283.505114098\n"
     ]
    }
   ],
   "source": [
    "x = input('Entrez un nomre x: ')\n",
    "x = int(x)\n",
    "\n",
    "y = input('Entrez un nomre y: ')\n",
    "y = int(y)\n",
    "\n",
    "print(\"La valeur de l'expression est:\", expressionValue(x, y))"
   ]
  },
  {
   "cell_type": "markdown",
   "metadata": {},
   "source": [
    "### <b> 2- ownpowerfn </b>"
   ]
  },
  {
   "cell_type": "code",
   "execution_count": 10,
   "metadata": {},
   "outputs": [],
   "source": [
    "def ownpowerfn(b, n):\n",
    "    i = 1\n",
    "    power = 1\n",
    "    for i in range(n):\n",
    "        power *= b\n",
    "    return power"
   ]
  },
  {
   "cell_type": "code",
   "execution_count": 12,
   "metadata": {},
   "outputs": [
    {
     "name": "stdout",
     "output_type": "stream",
     "text": [
      "Entrer la base: 5\n",
      "Entrer l'exposant(entier positif): -8\n",
      "Entrer l'exposant(entier positif): 2\n",
      "La valeur de l'expression est: 25\n"
     ]
    }
   ],
   "source": [
    "b = input('Entrer la base: ')\n",
    "b = int(b)\n",
    "\n",
    "while 1 :\n",
    "    n = input(\"Entrer l'exposant(entier positif): \")\n",
    "    n = int(n)\n",
    "    if(n >= 0):\n",
    "        break\n",
    "\n",
    "print(\"La valeur de l'expression est:\", ownpowerfn(b,n))"
   ]
  },
  {
   "cell_type": "markdown",
   "metadata": {},
   "source": [
    "<span>Si on n'avait pas spécifié que n doit etre positif, cela reviendrait à faire l'inverse de n à la puissance b. Ce qui ne sera pas verifié avec notre code puisque la liste de range(n) avec n negatif est vide. Il faudrat donc ajouter du controler l'entré de n</span>"
   ]
  },
  {
   "cell_type": "markdown",
   "metadata": {},
   "source": [
    "### <b> 3- Fonctions</b>"
   ]
  },
  {
   "cell_type": "markdown",
   "metadata": {},
   "source": [
    "<b> (a) Arithmetic and geometric mean</b>"
   ]
  },
  {
   "cell_type": "code",
   "execution_count": 18,
   "metadata": {},
   "outputs": [],
   "source": [
    "def arithmetic_mean(x, y):\n",
    "    return (x + y)/2\n",
    "\n",
    "def geometric_mean(x, y):\n",
    "    if x*y < 0:\n",
    "        print('Error: We cannot compute the geometric mean of two numbers')\n",
    "    else:\n",
    "        return pow(x*y, 0.5)"
   ]
  },
  {
   "cell_type": "code",
   "execution_count": 20,
   "metadata": {},
   "outputs": [
    {
     "name": "stdout",
     "output_type": "stream",
     "text": [
      "Enter the first number: 8\n",
      "Enter the second number: 3\n",
      "The arithmetic mean of both numbers is: 5.5\n",
      "The geometric mean of both numbers is: 4.898979485566356\n"
     ]
    }
   ],
   "source": [
    "x = input('Enter the first number: ')\n",
    "x = float(x)\n",
    "\n",
    "y = input('Enter the second number: ')\n",
    "y = float(y)\n",
    "\n",
    "print('The arithmetic mean of both numbers is:', arithmetic_mean(x, y))\n",
    "\n",
    "if x*y < 0:\n",
    "    print('Error: We cannot compute the geometric mean of two numbers')\n",
    "else:\n",
    "    print('The geometric mean of both numbers is:', geometric_mean(x, y))"
   ]
  },
  {
   "cell_type": "markdown",
   "metadata": {},
   "source": [
    "<b> (b) Converter (C-F) functions</b>"
   ]
  },
  {
   "cell_type": "code",
   "execution_count": 33,
   "metadata": {},
   "outputs": [],
   "source": [
    "def celcius_to_fahrenheit(C):\n",
    "    return (C * 9/5) + 32\n",
    "    \n",
    "def fahrenheit_to_celcius(F):\n",
    "    return (F - 32)*5/9"
   ]
  },
  {
   "cell_type": "code",
   "execution_count": 34,
   "metadata": {},
   "outputs": [
    {
     "name": "stdout",
     "output_type": "stream",
     "text": [
      "Enter the temperature in Celcius: 37\n",
      "In Fahrenheit your temperature value is:  98.6\n",
      "Enter the temperature in Fahrenheit: 98.6\n",
      "In Celcius your temperature value is:  37.0\n"
     ]
    }
   ],
   "source": [
    "C = input('Enter the temperature in Celcius: ')\n",
    "print('In Fahrenheit your temperature value is: ', celcius_to_fahrenheit(float(C)))\n",
    "\n",
    "F = input('Enter the temperature in Fahrenheit: ')\n",
    "print('In Celcius your temperature value is: ', fahrenheit_to_celcius(float(F)))"
   ]
  },
  {
   "cell_type": "markdown",
   "metadata": {},
   "source": [
    "<b> (c) Converter (degree-radian) functions</b>"
   ]
  },
  {
   "cell_type": "code",
   "execution_count": 35,
   "metadata": {},
   "outputs": [],
   "source": [
    "#1 deg = pi/180 rad\n",
    "from math import pi\n",
    "\n",
    "def degrees_to_radian(d):\n",
    "    return d*pi/180\n",
    "\n",
    "def radian_to_degrees(r):\n",
    "    return r*180/pi"
   ]
  },
  {
   "cell_type": "code",
   "execution_count": null,
   "metadata": {},
   "outputs": [],
   "source": []
  },
  {
   "cell_type": "markdown",
   "metadata": {},
   "source": [
    "<b> (d) Circle area and circumference</b>"
   ]
  },
  {
   "cell_type": "code",
   "execution_count": 14,
   "metadata": {},
   "outputs": [],
   "source": [
    "from math import pi\n",
    "\n",
    "def circleArea(r):\n",
    "    return r*r*pi\n",
    "\n",
    "def circleCircumference(r):\n",
    "    return 2*r*pi"
   ]
  },
  {
   "cell_type": "code",
   "execution_count": 16,
   "metadata": {},
   "outputs": [
    {
     "name": "stdout",
     "output_type": "stream",
     "text": [
      "Enter the cricle's radius : 5\n",
      "The circle corresponding to the entering raduis has 78.53981633974483 as Area and 31.41592653589793 as Circumference\n"
     ]
    }
   ],
   "source": [
    "r = input(\"Enter the cricle's radius : \")\n",
    "if float(r) <= 0:\n",
    "    print('Error: The radius may be a positive number')\n",
    "else:\n",
    "    print('The circle corresponding to the entering raduis has', circleArea(float(r)), 'as Area and', circleCircumference(float(r)), 'as Circumference')"
   ]
  },
  {
   "cell_type": "markdown",
   "metadata": {},
   "source": [
    "### <b> 4- Fonctions</b>"
   ]
  },
  {
   "cell_type": "markdown",
   "metadata": {},
   "source": [
    "<b> (a) average and geometric mean</b>"
   ]
  },
  {
   "cell_type": "code",
   "execution_count": null,
   "metadata": {},
   "outputs": [],
   "source": [
    "def arithmetic_mean(x, y):\n",
    "    return (x + y)/2\n",
    "\n",
    "def geometric_mean(x, y):\n",
    "    if x*y < 0:\n",
    "        print('Error: We cannot compute the geometric mean of two numbers')\n",
    "    else:\n",
    "        return pow(x*y, 0.5)"
   ]
  },
  {
   "cell_type": "code",
   "execution_count": null,
   "metadata": {},
   "outputs": [],
   "source": [
    "x = input('Enter the first number: ')\n",
    "x = float(x)\n",
    "\n",
    "y = input('Enter the second number: ')\n",
    "y = float(y)\n",
    "\n",
    "print('The arithmetic mean of both numbers is:', arithmetic_mean(x, y))\n",
    "\n",
    "if x*y < 0:\n",
    "    print('Error: We cannot compute the geometric mean of two numbers')\n",
    "else:\n",
    "    print('The geometric mean of both numbers is:', geometric_mean(x, y))"
   ]
  },
  {
   "cell_type": "markdown",
   "metadata": {},
   "source": [
    "<b> aveggeom</b>"
   ]
  },
  {
   "cell_type": "markdown",
   "metadata": {},
   "source": [
    "<b> (b) distance between</b>"
   ]
  },
  {
   "cell_type": "code",
   "execution_count": null,
   "metadata": {},
   "outputs": [],
   "source": [
    "def distance((a,b), (c,d)):\n",
    "    return"
   ]
  },
  {
   "cell_type": "code",
   "execution_count": null,
   "metadata": {},
   "outputs": [],
   "source": [
    "week = {1: 'monday', 2: 'tuesday', 3: 'wednesday', 4: 'thursday', 5: 'friday', 6: 'saturday', 7: 'sunday'}\n",
    "\n",
    "if number < 5:\n",
    "    print(week[number + 1])\n",
    "else:\n",
    "    print('weekend')"
   ]
  },
  {
   "cell_type": "code",
   "execution_count": null,
   "metadata": {},
   "outputs": [],
   "source": [
    "number = 11"
   ]
  },
  {
   "cell_type": "markdown",
   "metadata": {},
   "source": [
    "### <b> 5- Option </b>"
   ]
  },
  {
   "cell_type": "code",
   "execution_count": 36,
   "metadata": {},
   "outputs": [],
   "source": [
    "def factorial(n):\n",
    "    if n == 0:\n",
    "        return 1\n",
    "    else:\n",
    "        return n*factorial(n-1)\n",
    "    \n",
    "def equation():\n",
    "    a = input('Enter a: (ax*x + bx +c) :')\n",
    "    b = input('Enter b: (ax*x + bx +c) :')\n",
    "    c = input('Enter c: (ax*x + bx +c) :')\n",
    "    \n",
    "    \n",
    "def fact2nddeg():\n",
    "    while 1:\n",
    "        choix = input('Entrer votre choix: ')\n",
    "        if choix == 1:\n",
    "            x = input('Enter ')"
   ]
  },
  {
   "cell_type": "code",
   "execution_count": 38,
   "metadata": {},
   "outputs": [
    {
     "data": {
      "text/plain": [
       "120"
      ]
     },
     "execution_count": 38,
     "metadata": {},
     "output_type": "execute_result"
    }
   ],
   "source": [
    "factorial(5)"
   ]
  },
  {
   "cell_type": "code",
   "execution_count": null,
   "metadata": {},
   "outputs": [],
   "source": [
    "i = 1\n",
    "while i < 4:\n",
    "    print(\"Godonou\")\n",
    "    i += 1"
   ]
  },
  {
   "cell_type": "markdown",
   "metadata": {},
   "source": [
    "### <b> 6- power </b>"
   ]
  },
  {
   "cell_type": "code",
   "execution_count": 27,
   "metadata": {},
   "outputs": [],
   "source": [
    "def power(x, n):\n",
    "    if n == 0:\n",
    "        return 1\n",
    "    else:\n",
    "        return x*power(x, n-1)"
   ]
  },
  {
   "cell_type": "code",
   "execution_count": 32,
   "metadata": {},
   "outputs": [
    {
     "name": "stdout",
     "output_type": "stream",
     "text": [
      "Enter the base (a real number): 5\n",
      "Enter a natural number(the exponent): 5\n",
      "power({}, {}) =  3125.0 format({x},{n})\n"
     ]
    }
   ],
   "source": [
    "x = input('Enter the base (a real number): ')\n",
    "\n",
    "while 1:\n",
    "    n = input('Enter a natural number(the exponent): ')\n",
    "    n = int(n)\n",
    "    if n > 0:\n",
    "        break\n",
    "\n",
    "print('power({}, {}) = ', power(float(x),n), 'format({x},{n})')"
   ]
  },
  {
   "cell_type": "markdown",
   "metadata": {},
   "source": [
    "### <b> 7- Fibonacci </b>"
   ]
  },
  {
   "cell_type": "code",
   "execution_count": 39,
   "metadata": {},
   "outputs": [],
   "source": [
    "def fibonacci(i):\n",
    "    an_1 = float(input('Enter a0: ')) #an - 1\n",
    "    an = float(input('Enter a1: ')) #an\n",
    "\n",
    "    for i  in range(i):\n",
    "        an__1 = an + an_1 #an+1\n",
    "        an_1 = an\n",
    "        an = an__1\n",
    "    print(an__1)"
   ]
  },
  {
   "cell_type": "code",
   "execution_count": null,
   "metadata": {},
   "outputs": [],
   "source": []
  }
 ],
 "metadata": {
  "kernelspec": {
   "display_name": "Python 3",
   "language": "python",
   "name": "python3"
  },
  "language_info": {
   "codemirror_mode": {
    "name": "ipython",
    "version": 3
   },
   "file_extension": ".py",
   "mimetype": "text/x-python",
   "name": "python",
   "nbconvert_exporter": "python",
   "pygments_lexer": "ipython3",
   "version": "3.8.5"
  }
 },
 "nbformat": 4,
 "nbformat_minor": 4
}
