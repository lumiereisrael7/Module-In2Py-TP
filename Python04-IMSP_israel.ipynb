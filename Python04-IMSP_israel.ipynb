{
 "cells": [
  {
   "cell_type": "markdown",
   "metadata": {},
   "source": [
    "# <center style=\"color: green\"><b>Python04-IMSP</b></center>"
   ]
  },
  {
   "cell_type": "markdown",
   "metadata": {},
   "source": [
    "### <b>1- Product manager</b>"
   ]
  },
  {
   "cell_type": "code",
   "execution_count": null,
   "metadata": {},
   "outputs": [],
   "source": [
    "Product_List = []"
   ]
  },
  {
   "cell_type": "code",
   "execution_count": null,
   "metadata": {},
   "outputs": [],
   "source": [
    "def Menu():\n",
    "    print('Product manager: What de you want to do? :')\n",
    "    print('1 - Add new product')\n",
    "    print('2 - Change a product price')\n",
    "    print('3 - Consult the price of a product')\n",
    "    print('4 - Exit')\n",
    "    \n",
    "    return int(input('Your choice: '))\n",
    "\n",
    "def addProduct():\n",
    "    Product = {}\n",
    "    name = input('Enter the product name: ')\n",
    "    \n",
    "    while True:\n",
    "        price = input('Enter the price of a product (Be sure to put a digit): ')\n",
    "        if price.isdigit():\n",
    "            break\n",
    "    \n",
    "    Product[name] = str(price) + '$'\n",
    "    \n",
    "    Product_List.append(Product)\n",
    "    \n",
    "    print('')\n",
    "    print('You have succesfully added', name, 'with price', price, '$')\n",
    "    print('')\n",
    "    \n",
    "def changePrice():\n",
    "    Find = False\n",
    "    j = 0\n",
    "    p = ''\n",
    "    name = input('Enter the name of product you should change price: ')\n",
    "    for i in Product_List:\n",
    "        if name in i.keys():\n",
    "            while True:\n",
    "                price = input('Enter the new price of your product (Be sure to put a digit): ')\n",
    "                if price.isdigit():\n",
    "                    break\n",
    "            p = i[name]\n",
    "            i[name] = price + '$'\n",
    "            Find = True\n",
    "            break\n",
    "            \n",
    "    if not Find :\n",
    "        print('')\n",
    "        print('There is no product with this name')\n",
    "        print('')\n",
    "    \n",
    "\n",
    "def consultProduct():\n",
    "    Find = False\n",
    "    j = 0\n",
    "    p = ''\n",
    "    name = input('Enter the name of product you should consult the price: ')\n",
    "    for i in Product_List:\n",
    "        if name in i.keys():\n",
    "            print('')\n",
    "            print(name, 'coast', i[name])\n",
    "            print('')\n",
    "            Find = True\n",
    "            break\n",
    "            \n",
    "    if not Find :\n",
    "        print('')\n",
    "        print('There is no product with this name')\n",
    "        print('')\n",
    "        \n",
    "def Product_Manager():\n",
    "    Continue = True\n",
    "    while Continue:\n",
    "        if(Menu() == 1):\n",
    "            print('')\n",
    "            addProduct()\n",
    "        elif(Menu() == 2):\n",
    "            print('')\n",
    "            changePrice()\n",
    "        elif(Menu() == 3):\n",
    "            print('')\n",
    "            consultProduct()\n",
    "        elif(Menu() == 4):\n",
    "            print('')\n",
    "            Continue = False\n",
    "            print('Bye')\n",
    "        else:\n",
    "            print('Make a good choice please')"
   ]
  },
  {
   "cell_type": "code",
   "execution_count": null,
   "metadata": {},
   "outputs": [],
   "source": [
    "Product_Manager()"
   ]
  },
  {
   "cell_type": "markdown",
   "metadata": {},
   "source": [
    "### <b>2- Telephone list manager</b>"
   ]
  },
  {
   "cell_type": "code",
   "execution_count": null,
   "metadata": {},
   "outputs": [],
   "source": [
    "Telephone_list = []"
   ]
  },
  {
   "cell_type": "code",
   "execution_count": null,
   "metadata": {},
   "outputs": [],
   "source": [
    "def Menu_T():\n",
    "    print('Telephone list manager: What de you want to do? :')\n",
    "    print('1 - Add a new name registration')\n",
    "    print('2 - search for a telephone given the name of owner')\n",
    "    print('3 - search for a owner given its telephone number')\n",
    "    print('4 - Print the complete list of telephone')\n",
    "    print('5 - Exit')\n",
    "    \n",
    "    return int(input('Your choice: '))\n",
    "\n",
    "def Registration():\n",
    "    user = {}\n",
    "    while True:\n",
    "        name = input('Enter your name: ')\n",
    "        if name.isalpha():\n",
    "            break\n",
    "    while True:\n",
    "        number = input('Enter your telephone number (Be sure to put a digit): ')\n",
    "        if number.isdigit():\n",
    "            break\n",
    "    \n",
    "    user[name] = number\n",
    "    \n",
    "    Telephone_list.append(user)\n",
    "    \n",
    "    print('')\n",
    "    print('You have succesfully been added to the list. Your name:', name, 'Your telephone number:', number)\n",
    "    print('')\n",
    "    \n",
    "def search(x):\n",
    "    Find = False\n",
    "    j = 0\n",
    "    p = ''\n",
    "    if x == 'name':\n",
    "        name = input('Enter your name: ')\n",
    "        for i in Telephone_list:\n",
    "            if name in i.keys():\n",
    "                print('Your telephone number is:', i[name])\n",
    "                Find = True\n",
    "                break\n",
    "    elif x == 'number':\n",
    "        number = input('Enter your telephone number: ')\n",
    "        for i in Telephone_list:\n",
    "            if number in i.values():\n",
    "                print('The owner is ', list(i.keys())[0])\n",
    "                Find = True\n",
    "                break\n",
    "    if not Find :\n",
    "        print('')\n",
    "        print('There is no entry with what your are searching for')\n",
    "        print('')\n",
    "    \n",
    "\n",
    "def Print():\n",
    "    j = 1\n",
    "    if len(Telephone_list) == 0:\n",
    "        print('There is not yet any user registered')\n",
    "    else:\n",
    "        for i in Telephone_list:\n",
    "            print(j, ' - ', list(i.keys())[0], list(i.values())[0])\n",
    "            j += 1\n",
    "            \n",
    "def Tel_Manager():\n",
    "    Continue = True\n",
    "    while Continue:\n",
    "        if(Menu_T() == 1):\n",
    "            print('')\n",
    "            Registration()\n",
    "        elif(Menu_T() == 2):\n",
    "            print('')\n",
    "            search('name')\n",
    "        elif(Menu_T() == 3):\n",
    "            print('')\n",
    "            search('number')\n",
    "        elif(Menu_T() == 4):\n",
    "            print('')\n",
    "            Print();\n",
    "        elif(Menu() == 5):\n",
    "            print('')\n",
    "            Continue = False\n",
    "            print('Bye')\n",
    "        else:\n",
    "            print('Make a good choice please')"
   ]
  },
  {
   "cell_type": "code",
   "execution_count": null,
   "metadata": {},
   "outputs": [],
   "source": [
    "Tel_Manager()"
   ]
  },
  {
   "cell_type": "markdown",
   "metadata": {},
   "source": [
    "### <b>3- Mapping</b>"
   ]
  },
  {
   "cell_type": "markdown",
   "metadata": {},
   "source": [
    "### <b>4- Longuest word</b>"
   ]
  },
  {
   "cell_type": "code",
   "execution_count": 36,
   "metadata": {},
   "outputs": [],
   "source": [
    "Words = ['hi', 'sks', 'Mum', 'Maman', 'Papa', 'Python']"
   ]
  },
  {
   "cell_type": "code",
   "execution_count": 59,
   "metadata": {},
   "outputs": [],
   "source": [
    "def find_longuest_word(L):\n",
    "    if len(L) > 0:\n",
    "        max = len(L[0])\n",
    "        i_m = j = 0\n",
    "        for i in L:\n",
    "            if max < len(i):\n",
    "                max = len(i)\n",
    "                i_m = j\n",
    "            j += 1\n",
    "        return L[i_m]\n",
    "    else:\n",
    "        print('The given list is empty')"
   ]
  },
  {
   "cell_type": "code",
   "execution_count": 60,
   "metadata": {},
   "outputs": [
    {
     "name": "stdout",
     "output_type": "stream",
     "text": [
      "The longuest word in Words is: Python\n"
     ]
    }
   ],
   "source": [
    "print('The longuest word in Words is:', find_longuest_word(Words))"
   ]
  },
  {
   "cell_type": "markdown",
   "metadata": {},
   "source": [
    "### <b>6- member</b>"
   ]
  },
  {
   "cell_type": "code",
   "execution_count": 61,
   "metadata": {},
   "outputs": [],
   "source": [
    "def is_member(x, L):\n",
    "    if len(L) == 0:\n",
    "        print('The given list is empty')\n",
    "    else :\n",
    "        for i in L:\n",
    "            if i == x:\n",
    "                return True\n",
    "        return False"
   ]
  },
  {
   "cell_type": "code",
   "execution_count": 63,
   "metadata": {},
   "outputs": [
    {
     "data": {
      "text/plain": [
       "False"
      ]
     },
     "execution_count": 63,
     "metadata": {},
     "output_type": "execute_result"
    }
   ],
   "source": [
    "is_member('hix', Words)"
   ]
  },
  {
   "cell_type": "markdown",
   "metadata": {},
   "source": [
    "### <b>7- Histogram</b>"
   ]
  },
  {
   "cell_type": "code",
   "execution_count": 68,
   "metadata": {},
   "outputs": [],
   "source": [
    "def histogram(L):\n",
    "    if len(L) == 0:\n",
    "        print('The given list is empty')\n",
    "    else :\n",
    "        for i in L:\n",
    "            if str(i).isdigit():\n",
    "                print('*'*i)\n",
    "            else:\n",
    "                print('L should contains only integer')"
   ]
  },
  {
   "cell_type": "code",
   "execution_count": 71,
   "metadata": {},
   "outputs": [
    {
     "name": "stdout",
     "output_type": "stream",
     "text": [
      "****\n",
      "*********\n",
      "*******\n",
      "**********************************************************************************\n"
     ]
    }
   ],
   "source": [
    "histogram([4, 9, 7, 82])"
   ]
  },
  {
   "cell_type": "markdown",
   "metadata": {},
   "source": [
    "### <b>8- Disctionnary</b>"
   ]
  },
  {
   "cell_type": "code",
   "execution_count": 106,
   "metadata": {},
   "outputs": [],
   "source": [
    "Amour = {}\n",
    "\n",
    "Paix = {}\n",
    "\n",
    "Foi = {}"
   ]
  },
  {
   "cell_type": "code",
   "execution_count": 107,
   "metadata": {},
   "outputs": [],
   "source": [
    "keys = (\"name\", \"homework\", \"quizzes\", \"tests\")\n",
    "\n",
    "L = [Amour, Paix, Foi]\n",
    "\n",
    "Amour['name'] = 'Amour'\n",
    "\n",
    "Paix['name'] = 'Paix'\n",
    "\n",
    "Foi['name'] = 'Foi'\n",
    "\n",
    "for i in L:\n",
    "    for j in keys[1:]:\n",
    "        i[j] = []"
   ]
  },
  {
   "cell_type": "code",
   "execution_count": 108,
   "metadata": {},
   "outputs": [],
   "source": [
    "Amour = {\n",
    "\"name\": \"Amour\",\n",
    "\"homework\": [90.0,97.0,75.0,92.0],\n",
    "\"quizzes\": [88.0,40.0,94.0],\n",
    "\"tests\": [75.0,90.0]\n",
    "}\n",
    "Paix = {\n",
    "\"name\": \"Paix\",\n",
    "\"homework\": [100.0, 92.0, 98.0, 100.0],\n",
    "\"quizzes\": [82.0, 83.0, 91.0],\n",
    "\"tests\": [89.0, 97.0]\n",
    "}\n",
    "Foi = {\n",
    "\"name\": \"Foi\",\n",
    "\"homework\": [0.0, 87.0, 75.0, 22.0],\n",
    "\"quizzes\": [0.0, 75.0, 78.0],\n",
    "\"tests\": [100.0, 100.0]\n",
    "}"
   ]
  },
  {
   "cell_type": "code",
   "execution_count": 109,
   "metadata": {},
   "outputs": [],
   "source": [
    "student = [Amour, Paix, Foi]"
   ]
  },
  {
   "cell_type": "code",
   "execution_count": 110,
   "metadata": {},
   "outputs": [
    {
     "name": "stdout",
     "output_type": "stream",
     "text": [
      "Amour\n",
      "[90.0, 97.0, 75.0, 92.0]\n",
      "[88.0, 40.0, 94.0]\n",
      "[75.0, 90.0]\n",
      "====================\n",
      "Paix\n",
      "[100.0, 92.0, 98.0, 100.0]\n",
      "[82.0, 83.0, 91.0]\n",
      "[89.0, 97.0]\n",
      "====================\n",
      "Foi\n",
      "[0.0, 87.0, 75.0, 22.0]\n",
      "[0.0, 75.0, 78.0]\n",
      "[100.0, 100.0]\n",
      "====================\n"
     ]
    }
   ],
   "source": [
    "for i in student:\n",
    "    for j in keys:\n",
    "        print(i[j])\n",
    "    print('====================')"
   ]
  },
  {
   "cell_type": "markdown",
   "metadata": {},
   "source": [
    "### <b>Aerage</b>"
   ]
  },
  {
   "cell_type": "code",
   "execution_count": 104,
   "metadata": {},
   "outputs": [],
   "source": [
    "def average(numbers):\n",
    "    total = sum(numbers)\n",
    "    return total/len(numbers)"
   ]
  },
  {
   "cell_type": "code",
   "execution_count": 105,
   "metadata": {},
   "outputs": [
    {
     "data": {
      "text/plain": [
       "82.5"
      ]
     },
     "execution_count": 105,
     "metadata": {},
     "output_type": "execute_result"
    }
   ],
   "source": [
    "average(Amour['tests'])"
   ]
  },
  {
   "cell_type": "code",
   "execution_count": 112,
   "metadata": {},
   "outputs": [],
   "source": [
    "def get_average(student):\n",
    "    homework = average(student['homework'])\n",
    "    quizzes = average(student['quizzes'])\n",
    "    tests = average(student['tests'])\n",
    "    \n",
    "    return (homework*0.1 + quizzes*0.3 + tests*0.6 )/ 3"
   ]
  },
  {
   "cell_type": "code",
   "execution_count": 114,
   "metadata": {},
   "outputs": [
    {
     "data": {
      "text/plain": [
       "26.849999999999998"
      ]
     },
     "execution_count": 114,
     "metadata": {},
     "output_type": "execute_result"
    }
   ],
   "source": [
    "get_average(Amour)"
   ]
  },
  {
   "cell_type": "code",
   "execution_count": null,
   "metadata": {},
   "outputs": [],
   "source": []
  }
 ],
 "metadata": {
  "kernelspec": {
   "display_name": "Python 3",
   "language": "python",
   "name": "python3"
  },
  "language_info": {
   "codemirror_mode": {
    "name": "ipython",
    "version": 3
   },
   "file_extension": ".py",
   "mimetype": "text/x-python",
   "name": "python",
   "nbconvert_exporter": "python",
   "pygments_lexer": "ipython3",
   "version": "3.8.5"
  }
 },
 "nbformat": 4,
 "nbformat_minor": 4
}
