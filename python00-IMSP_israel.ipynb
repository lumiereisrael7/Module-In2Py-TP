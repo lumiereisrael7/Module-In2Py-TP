{
 "cells": [
  {
   "cell_type": "markdown",
   "metadata": {},
   "source": [
    " <center style= \"color: green\">Doing calculation</center>"
   ]
  },
  {
   "cell_type": "markdown",
   "metadata": {},
   "source": [
    " <li> Considerons les expressions suivantes</li>"
   ]
  },
  {
   "cell_type": "code",
   "execution_count": 2,
   "metadata": {},
   "outputs": [],
   "source": [
    "width = 17\n",
    "height = 12.0\n",
    "delimiter = '.'"
   ]
  },
  {
   "cell_type": "code",
   "execution_count": 20,
   "metadata": {},
   "outputs": [
    {
     "data": {
      "text/plain": [
       "True"
      ]
     },
     "execution_count": 20,
     "metadata": {},
     "output_type": "execute_result"
    }
   ],
   "source": [
    "width/2\n",
    "\n",
    "type(width/2) is float\n",
    "\n",
    "#Le type est un float. la valeur vaut 8.5"
   ]
  },
  {
   "cell_type": "code",
   "execution_count": 17,
   "metadata": {},
   "outputs": [
    {
     "data": {
      "text/plain": [
       "8.5"
      ]
     },
     "execution_count": 17,
     "metadata": {},
     "output_type": "execute_result"
    }
   ],
   "source": [
    "width/2.0\n",
    "\n",
    "type(width/2.0) is float\n",
    "\n",
    "#la valeur vaut 8.5 et le type est un float"
   ]
  },
  {
   "cell_type": "code",
   "execution_count": 14,
   "metadata": {},
   "outputs": [
    {
     "data": {
      "text/plain": [
       "4.0"
      ]
     },
     "execution_count": 14,
     "metadata": {},
     "output_type": "execute_result"
    }
   ],
   "source": [
    "height/3\n",
    "\n",
    "type(height/3) is float\n",
    "#La valeur vaut 4.0 et le type est un float"
   ]
  },
  {
   "cell_type": "code",
   "execution_count": 21,
   "metadata": {},
   "outputs": [
    {
     "data": {
      "text/plain": [
       "True"
      ]
     },
     "execution_count": 21,
     "metadata": {},
     "output_type": "execute_result"
    }
   ],
   "source": [
    "1 + 2 * 5\n",
    "\n",
    "type(1 + 2 * 5) is int\n",
    "\n",
    "#La valeur vaut 11 et le type est un int"
   ]
  },
  {
   "cell_type": "code",
   "execution_count": 22,
   "metadata": {},
   "outputs": [
    {
     "data": {
      "text/plain": [
       "True"
      ]
     },
     "execution_count": 22,
     "metadata": {},
     "output_type": "execute_result"
    }
   ],
   "source": [
    "delimiter * 5\n",
    "\n",
    "type(delimiter * 5) is str\n",
    "# Je voulais dire que nous aurons une erreur puisque delimiter contient une chaine de caractere et on voudrait le multiplier par 5\n",
    "# Mais le résultat obtenue montre qu'on souhaite repeter 5 fois la chaine à l'intérieur de la variable delimiter.\n",
    "# Donc la valeur est: .....\n",
    "# Le type est un str"
   ]
  },
  {
   "cell_type": "markdown",
   "metadata": {},
   "source": [
    "<li>Utilisation de l'interpreter Python comme calculatrice</li>"
   ]
  },
  {
   "cell_type": "code",
   "execution_count": 26,
   "metadata": {},
   "outputs": [
    {
     "name": "stdout",
     "output_type": "stream",
     "text": [
      "294.5243112740431\n"
     ]
    }
   ],
   "source": [
    "PI = 3.1415926535897931\n",
    "\n",
    "r = 5\n",
    "\n",
    "V = (3/4) * PI * (r**3)\n",
    "\n",
    "print(V)"
   ]
  },
  {
   "cell_type": "markdown",
   "metadata": {},
   "source": [
    " <center style= \"color: green\">Data type and operations</center>"
   ]
  },
  {
   "cell_type": "markdown",
   "metadata": {},
   "source": [
    "<li>Type des variables</li>"
   ]
  },
  {
   "cell_type": "code",
   "execution_count": 30,
   "metadata": {},
   "outputs": [
    {
     "data": {
      "text/plain": [
       "True"
      ]
     },
     "execution_count": 30,
     "metadata": {},
     "output_type": "execute_result"
    }
   ],
   "source": [
    "x = 1\n",
    "\n",
    "y = float(5)\n",
    "\n",
    "z = \"ten\"\n",
    "\n",
    "type(x) is int\n",
    "\n",
    "type(y) is float\n",
    "\n",
    "type(z) is str"
   ]
  },
  {
   "cell_type": "markdown",
   "metadata": {},
   "source": [
    "<li>L'operation \"+\"</li>"
   ]
  },
  {
   "cell_type": "code",
   "execution_count": 36,
   "metadata": {},
   "outputs": [
    {
     "name": "stdout",
     "output_type": "stream",
     "text": [
      "2\n",
      "6.0\n",
      "10.0\n",
      "tenten\n"
     ]
    }
   ],
   "source": [
    "print(x + x)\n",
    "\n",
    "print(x + y)\n",
    "\n",
    "print(y + y)\n",
    "\n",
    "print(y + z)\n",
    "\n",
    "print(z + z)"
   ]
  },
  {
   "cell_type": "markdown",
   "metadata": {},
   "source": [
    "Nous aurons une erreur au niveau de l'operation : <b>float-str</b> <br> Aucune autre surprise"
   ]
  },
  {
   "cell_type": "markdown",
   "metadata": {},
   "source": [
    "<li>L'operation \"*\"</li>"
   ]
  },
  {
   "cell_type": "code",
   "execution_count": 46,
   "metadata": {},
   "outputs": [
    {
     "name": "stdout",
     "output_type": "stream",
     "text": [
      "1\n",
      "5.0\n",
      "25.0\n"
     ]
    }
   ],
   "source": [
    "print(x * x) \n",
    "\n",
    "print(x * y)\n",
    "\n",
    "print(y * y)\n",
    "\n",
    "#print(y * z)\n",
    "\n",
    "#print(z * z)"
   ]
  },
  {
   "cell_type": "markdown",
   "metadata": {},
   "source": [
    "Les lignes commentées génèrent d'erreurs\n",
    "Nous aurons d'erreurs au niveau de l'operation : <b>float-str et str-str</b> <br> Aucune autre surprise"
   ]
  },
  {
   "cell_type": "markdown",
   "metadata": {},
   "source": [
    "<li>L'operation \"-\"</li>"
   ]
  },
  {
   "cell_type": "code",
   "execution_count": 49,
   "metadata": {},
   "outputs": [
    {
     "name": "stdout",
     "output_type": "stream",
     "text": [
      "0\n",
      "-4.0\n",
      "0.0\n"
     ]
    }
   ],
   "source": [
    "print(x - x)\n",
    "\n",
    "print(x - y)\n",
    "\n",
    "print(y - y)\n",
    "\n",
    "#print(y - z)\n",
    "\n",
    "#print(z - z)"
   ]
  },
  {
   "cell_type": "markdown",
   "metadata": {},
   "source": [
    "Les lignes commentées génèrent d'erreurs\n",
    "Nous aurons d'erreurs au niveau de l'operation : <b>float-str et str-str</b> <br> Aucune autre surprise"
   ]
  },
  {
   "cell_type": "markdown",
   "metadata": {},
   "source": [
    "<li>L'operation \"/\"</li>"
   ]
  },
  {
   "cell_type": "code",
   "execution_count": 58,
   "metadata": {},
   "outputs": [
    {
     "name": "stdout",
     "output_type": "stream",
     "text": [
      "1.0\n",
      "0.2\n",
      "1.0\n"
     ]
    }
   ],
   "source": [
    "print(x / x)\n",
    "\n",
    "print(x / y)\n",
    "\n",
    "print(y / y)\n",
    "\n",
    "#print(y / z)\n",
    "\n",
    "#print(z / z)"
   ]
  },
  {
   "cell_type": "markdown",
   "metadata": {},
   "source": [
    "Les lignes commentées génèrent d'erreurs\n",
    "Nous aurons d'erreurs au niveau de l'operation : <b>float-str et str-str</b> <br> Aucune autre surprise"
   ]
  },
  {
   "cell_type": "markdown",
   "metadata": {},
   "source": [
    "<li>L'operation \"%\"</li>"
   ]
  },
  {
   "cell_type": "code",
   "execution_count": 64,
   "metadata": {},
   "outputs": [
    {
     "name": "stdout",
     "output_type": "stream",
     "text": [
      "0\n",
      "1.0\n",
      "0.0\n"
     ]
    }
   ],
   "source": [
    "print(x % x)\n",
    "\n",
    "print(x % y)\n",
    "\n",
    "print(y % y)\n",
    "\n",
    "#print(y % z)\n",
    "\n",
    "#print(z % z)"
   ]
  },
  {
   "cell_type": "markdown",
   "metadata": {},
   "source": [
    "Les lignes commentées génèrent d'erreurs\n",
    "Nous aurons d'erreurs au niveau de l'operation : <b>float-str et str-str</b> <br> Aucune autre surprise"
   ]
  },
  {
   "cell_type": "markdown",
   "metadata": {},
   "source": [
    "<li>Les operations <pre> \"<\", \">\", \"<=\", \">=\" \"==\"</pre></li>"
   ]
  },
  {
   "cell_type": "code",
   "execution_count": 69,
   "metadata": {},
   "outputs": [
    {
     "name": "stdout",
     "output_type": "stream",
     "text": [
      "True\n",
      "True\n",
      "False\n",
      "False\n",
      "False\n"
     ]
    }
   ],
   "source": [
    "print(x <= x)\n",
    "\n",
    "print(x < y)\n",
    "\n",
    "print(y > y)\n",
    "\n",
    "print(y == z)\n",
    "\n",
    "print(z > z)"
   ]
  },
  {
   "cell_type": "markdown",
   "metadata": {},
   "source": [
    "Ce sont des operateurs logiques. Donc renvoies un <b>booleen</b>.\n",
    "\n",
    "La surprise est qu'aucune des lignes ne présentent d'erreur pour les operations. Pour toutes les operations il n'y a pas d'erreurs sur les lignes."
   ]
  },
  {
   "cell_type": "code",
   "execution_count": 52,
   "metadata": {},
   "outputs": [],
   "source": [
    "help(int)\n",
    "\n",
    "help(float)"
   ]
  }
 ],
 "metadata": {
  "kernelspec": {
   "display_name": "Python 3",
   "language": "python",
   "name": "python3"
  },
  "language_info": {
   "codemirror_mode": {
    "name": "ipython",
    "version": 3
   },
   "file_extension": ".py",
   "mimetype": "text/x-python",
   "name": "python",
   "nbconvert_exporter": "python",
   "pygments_lexer": "ipython3",
   "version": "3.8.5"
  }
 },
 "nbformat": 4,
 "nbformat_minor": 4
}
